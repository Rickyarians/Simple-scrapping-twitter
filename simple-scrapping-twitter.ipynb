{
 "cells": [
  {
   "cell_type": "markdown",
   "metadata": {},
   "source": [
    "# Simple Scrapping Twitter Data\n",
    "\n",
    "\n",
    "by : Ricky Ariansyah\n",
    "\n",
    "\n"
   ]
  },
  {
   "cell_type": "markdown",
   "metadata": {},
   "source": [
    "## 1. Install And Import Library\n",
    "\n",
    "in this case we need install tweepy and pandas"
   ]
  },
  {
   "cell_type": "code",
   "execution_count": 94,
   "metadata": {},
   "outputs": [],
   "source": [
    "import tweepy # import tweepy\n",
    "import pandas as pd # import pandas"
   ]
  },
  {
   "cell_type": "markdown",
   "metadata": {},
   "source": [
    "## 2. Authorization\n",
    "\n",
    "we need to setup authorization to use tweepy\n",
    "\n",
    "you can register via this link https://developer.twitter.com/en to get the API_KEY, API_SECRET, ACCESS_TOKEN, ACCESS_SECRET\n",
    "\n"
   ]
  },
  {
   "cell_type": "code",
   "execution_count": 95,
   "metadata": {},
   "outputs": [],
   "source": [
    "API_KEY = \"beYIBuM1H2VdjHeiJvqTveOSq\" # set value API_KEY\n",
    "API_SECRET = \"IYTMgHm3Ib6TzbexJQiKEi3FpG95DhZEniAd8erkkE448CGsb2\" # set value API_SECRET\n",
    "\n",
    "ACCESS_TOKEN = \"61717767-zr8fe4KE9oSjpiGTwWIpVGB74JLfBsiQVMWNoyt9r\" # set value ACCESS_TOKEN\n",
    "ACCESS_SECRET = \"n8ZS2wE0sgWMF461eVnQKZ3jLnuqw5PSQB3dmLpZmXCKC\" # Set value ACCESS_SECRET"
   ]
  },
  {
   "cell_type": "code",
   "execution_count": 100,
   "metadata": {},
   "outputs": [],
   "source": [
    "auth = tweepy.OAuthHandler(API_KEY, API_SECRET) # call oauth function\n",
    "auth.set_access_token(ACCESS_TOKEN, ACCESS_SECRET) # login twitter\n",
    "\n",
    "api = tweepy.API(auth) # set auth to api"
   ]
  },
  {
   "cell_type": "code",
   "execution_count": 12,
   "metadata": {},
   "outputs": [
    {
     "name": "stdout",
     "output_type": "stream",
     "text": [
      "<tweepy.api.API object at 0x7f9a279dc2e0>\n"
     ]
    }
   ],
   "source": [
    "print(api)"
   ]
  },
  {
   "cell_type": "markdown",
   "metadata": {},
   "source": [
    "## 3. Search Tweets"
   ]
  },
  {
   "cell_type": "code",
   "execution_count": 103,
   "metadata": {},
   "outputs": [
    {
     "data": {
      "text/plain": [
       "[Status(_api=<tweepy.api.API object at 0x7f9a28104490>, _json={'created_at': 'Thu Jan 19 14:18:46 +0000 2023', 'id': 1616077712149590017, 'id_str': '1616077712149590017', 'text': 'RT @worksfess: Work! Info buat belajar mandiri Pemasaran Digital, disitu lengkap mulai dari karir hingga bisnis. Cari di App/Play Store, \"G…', 'truncated': False, 'entities': {'hashtags': [], 'symbols': [], 'user_mentions': [{'screen_name': 'worksfess', 'name': 'BACA RULES DI (bit.ly/worksfess)', 'id': 1244597361826885636, 'id_str': '1244597361826885636', 'indices': [3, 13]}], 'urls': []}, 'metadata': {'iso_language_code': 'in', 'result_type': 'recent'}, 'source': '<a href=\"http://twitter.com/download/iphone\" rel=\"nofollow\">Twitter for iPhone</a>', 'in_reply_to_status_id': None, 'in_reply_to_status_id_str': None, 'in_reply_to_user_id': None, 'in_reply_to_user_id_str': None, 'in_reply_to_screen_name': None, 'user': {'id': 1213420105071120384, 'id_str': '1213420105071120384', 'name': 'sesederhanamungkin', 'screen_name': 'sintiarap', 'location': 'Syurga', 'description': 'karena hidup singkat, perpanjang keluh mu dan perbanyak syukur mu', 'url': None, 'entities': {'description': {'urls': []}}, 'protected': False, 'followers_count': 4, 'friends_count': 29, 'listed_count': 0, 'created_at': 'Sat Jan 04 11:21:22 +0000 2020', 'favourites_count': 2991, 'utc_offset': None, 'time_zone': None, 'geo_enabled': False, 'verified': False, 'statuses_count': 2083, 'lang': None, 'contributors_enabled': False, 'is_translator': False, 'is_translation_enabled': False, 'profile_background_color': 'F5F8FA', 'profile_background_image_url': None, 'profile_background_image_url_https': None, 'profile_background_tile': False, 'profile_image_url': 'http://pbs.twimg.com/profile_images/1519716643341242368/Agt-kdRD_normal.jpg', 'profile_image_url_https': 'https://pbs.twimg.com/profile_images/1519716643341242368/Agt-kdRD_normal.jpg', 'profile_banner_url': 'https://pbs.twimg.com/profile_banners/1213420105071120384/1624697372', 'profile_link_color': '1DA1F2', 'profile_sidebar_border_color': 'C0DEED', 'profile_sidebar_fill_color': 'DDEEF6', 'profile_text_color': '333333', 'profile_use_background_image': True, 'has_extended_profile': True, 'default_profile': True, 'default_profile_image': False, 'following': False, 'follow_request_sent': False, 'notifications': False, 'translator_type': 'none', 'withheld_in_countries': []}, 'geo': None, 'coordinates': None, 'place': None, 'contributors': None, 'retweeted_status': {'created_at': 'Thu Jan 19 08:20:26 +0000 2023', 'id': 1615987535284695040, 'id_str': '1615987535284695040', 'text': 'Work! Info buat belajar mandiri Pemasaran Digital, disitu lengkap mulai dari karir hingga bisnis. Cari di App/Play… https://t.co/1CNNz0Igss', 'truncated': True, 'entities': {'hashtags': [], 'symbols': [], 'user_mentions': [], 'urls': [{'url': 'https://t.co/1CNNz0Igss', 'expanded_url': 'https://twitter.com/i/web/status/1615987535284695040', 'display_url': 'twitter.com/i/web/status/1…', 'indices': [116, 139]}]}, 'metadata': {'iso_language_code': 'in', 'result_type': 'recent'}, 'source': '<a href=\"https://twitter.com/worksfess\" rel=\"nofollow\">WORKSFESS</a>', 'in_reply_to_status_id': None, 'in_reply_to_status_id_str': None, 'in_reply_to_user_id': None, 'in_reply_to_user_id_str': None, 'in_reply_to_screen_name': None, 'user': {'id': 1244597361826885636, 'id_str': '1244597361826885636', 'name': 'BACA RULES DI (bit.ly/worksfess)', 'screen_name': 'worksfess', 'location': 'MENGENAI KAMI', 'description': 'Autobase untuk sharing yang berhubungan dengan pekerjaan || Managed by @magnitvde', 'url': 'https://t.co/Pm4Wibo48t', 'entities': {'url': {'urls': [{'url': 'https://t.co/Pm4Wibo48t', 'expanded_url': 'http://bit.ly/worksfess', 'display_url': 'bit.ly/worksfess', 'indices': [0, 23]}]}, 'description': {'urls': []}}, 'protected': False, 'followers_count': 543979, 'friends_count': 12174, 'listed_count': 2679, 'created_at': 'Mon Mar 30 12:08:48 +0000 2020', 'favourites_count': 9, 'utc_offset': None, 'time_zone': None, 'geo_enabled': False, 'verified': False, 'statuses_count': 437811, 'lang': None, 'contributors_enabled': False, 'is_translator': False, 'is_translation_enabled': False, 'profile_background_color': 'F5F8FA', 'profile_background_image_url': None, 'profile_background_image_url_https': None, 'profile_background_tile': False, 'profile_image_url': 'http://pbs.twimg.com/profile_images/1325713555358806016/5XcnqK4i_normal.jpg', 'profile_image_url_https': 'https://pbs.twimg.com/profile_images/1325713555358806016/5XcnqK4i_normal.jpg', 'profile_banner_url': 'https://pbs.twimg.com/profile_banners/1244597361826885636/1648904883', 'profile_link_color': '1DA1F2', 'profile_sidebar_border_color': 'C0DEED', 'profile_sidebar_fill_color': 'DDEEF6', 'profile_text_color': '333333', 'profile_use_background_image': True, 'has_extended_profile': False, 'default_profile': True, 'default_profile_image': False, 'following': False, 'follow_request_sent': False, 'notifications': False, 'translator_type': 'none', 'withheld_in_countries': []}, 'geo': None, 'coordinates': None, 'place': None, 'contributors': None, 'is_quote_status': False, 'retweet_count': 26, 'favorite_count': 98, 'favorited': False, 'retweeted': False, 'possibly_sensitive': False, 'lang': 'in'}, 'is_quote_status': False, 'retweet_count': 26, 'favorite_count': 0, 'favorited': False, 'retweeted': False, 'lang': 'in'}, created_at=datetime.datetime(2023, 1, 19, 14, 18, 46, tzinfo=datetime.timezone.utc), id=1616077712149590017, id_str='1616077712149590017', text='RT @worksfess: Work! Info buat belajar mandiri Pemasaran Digital, disitu lengkap mulai dari karir hingga bisnis. Cari di App/Play Store, \"G…', truncated=False, entities={'hashtags': [], 'symbols': [], 'user_mentions': [{'screen_name': 'worksfess', 'name': 'BACA RULES DI (bit.ly/worksfess)', 'id': 1244597361826885636, 'id_str': '1244597361826885636', 'indices': [3, 13]}], 'urls': []}, metadata={'iso_language_code': 'in', 'result_type': 'recent'}, source='Twitter for iPhone', source_url='http://twitter.com/download/iphone', in_reply_to_status_id=None, in_reply_to_status_id_str=None, in_reply_to_user_id=None, in_reply_to_user_id_str=None, in_reply_to_screen_name=None, author=User(_api=<tweepy.api.API object at 0x7f9a28104490>, _json={'id': 1213420105071120384, 'id_str': '1213420105071120384', 'name': 'sesederhanamungkin', 'screen_name': 'sintiarap', 'location': 'Syurga', 'description': 'karena hidup singkat, perpanjang keluh mu dan perbanyak syukur mu', 'url': None, 'entities': {'description': {'urls': []}}, 'protected': False, 'followers_count': 4, 'friends_count': 29, 'listed_count': 0, 'created_at': 'Sat Jan 04 11:21:22 +0000 2020', 'favourites_count': 2991, 'utc_offset': None, 'time_zone': None, 'geo_enabled': False, 'verified': False, 'statuses_count': 2083, 'lang': None, 'contributors_enabled': False, 'is_translator': False, 'is_translation_enabled': False, 'profile_background_color': 'F5F8FA', 'profile_background_image_url': None, 'profile_background_image_url_https': None, 'profile_background_tile': False, 'profile_image_url': 'http://pbs.twimg.com/profile_images/1519716643341242368/Agt-kdRD_normal.jpg', 'profile_image_url_https': 'https://pbs.twimg.com/profile_images/1519716643341242368/Agt-kdRD_normal.jpg', 'profile_banner_url': 'https://pbs.twimg.com/profile_banners/1213420105071120384/1624697372', 'profile_link_color': '1DA1F2', 'profile_sidebar_border_color': 'C0DEED', 'profile_sidebar_fill_color': 'DDEEF6', 'profile_text_color': '333333', 'profile_use_background_image': True, 'has_extended_profile': True, 'default_profile': True, 'default_profile_image': False, 'following': False, 'follow_request_sent': False, 'notifications': False, 'translator_type': 'none', 'withheld_in_countries': []}, id=1213420105071120384, id_str='1213420105071120384', name='sesederhanamungkin', screen_name='sintiarap', location='Syurga', description='karena hidup singkat, perpanjang keluh mu dan perbanyak syukur mu', url=None, entities={'description': {'urls': []}}, protected=False, followers_count=4, friends_count=29, listed_count=0, created_at=datetime.datetime(2020, 1, 4, 11, 21, 22, tzinfo=datetime.timezone.utc), favourites_count=2991, utc_offset=None, time_zone=None, geo_enabled=False, verified=False, statuses_count=2083, lang=None, contributors_enabled=False, is_translator=False, is_translation_enabled=False, profile_background_color='F5F8FA', profile_background_image_url=None, profile_background_image_url_https=None, profile_background_tile=False, profile_image_url='http://pbs.twimg.com/profile_images/1519716643341242368/Agt-kdRD_normal.jpg', profile_image_url_https='https://pbs.twimg.com/profile_images/1519716643341242368/Agt-kdRD_normal.jpg', profile_banner_url='https://pbs.twimg.com/profile_banners/1213420105071120384/1624697372', profile_link_color='1DA1F2', profile_sidebar_border_color='C0DEED', profile_sidebar_fill_color='DDEEF6', profile_text_color='333333', profile_use_background_image=True, has_extended_profile=True, default_profile=True, default_profile_image=False, following=False, follow_request_sent=False, notifications=False, translator_type='none', withheld_in_countries=[]), user=User(_api=<tweepy.api.API object at 0x7f9a28104490>, _json={'id': 1213420105071120384, 'id_str': '1213420105071120384', 'name': 'sesederhanamungkin', 'screen_name': 'sintiarap', 'location': 'Syurga', 'description': 'karena hidup singkat, perpanjang keluh mu dan perbanyak syukur mu', 'url': None, 'entities': {'description': {'urls': []}}, 'protected': False, 'followers_count': 4, 'friends_count': 29, 'listed_count': 0, 'created_at': 'Sat Jan 04 11:21:22 +0000 2020', 'favourites_count': 2991, 'utc_offset': None, 'time_zone': None, 'geo_enabled': False, 'verified': False, 'statuses_count': 2083, 'lang': None, 'contributors_enabled': False, 'is_translator': False, 'is_translation_enabled': False, 'profile_background_color': 'F5F8FA', 'profile_background_image_url': None, 'profile_background_image_url_https': None, 'profile_background_tile': False, 'profile_image_url': 'http://pbs.twimg.com/profile_images/1519716643341242368/Agt-kdRD_normal.jpg', 'profile_image_url_https': 'https://pbs.twimg.com/profile_images/1519716643341242368/Agt-kdRD_normal.jpg', 'profile_banner_url': 'https://pbs.twimg.com/profile_banners/1213420105071120384/1624697372', 'profile_link_color': '1DA1F2', 'profile_sidebar_border_color': 'C0DEED', 'profile_sidebar_fill_color': 'DDEEF6', 'profile_text_color': '333333', 'profile_use_background_image': True, 'has_extended_profile': True, 'default_profile': True, 'default_profile_image': False, 'following': False, 'follow_request_sent': False, 'notifications': False, 'translator_type': 'none', 'withheld_in_countries': []}, id=1213420105071120384, id_str='1213420105071120384', name='sesederhanamungkin', screen_name='sintiarap', location='Syurga', description='karena hidup singkat, perpanjang keluh mu dan perbanyak syukur mu', url=None, entities={'description': {'urls': []}}, protected=False, followers_count=4, friends_count=29, listed_count=0, created_at=datetime.datetime(2020, 1, 4, 11, 21, 22, tzinfo=datetime.timezone.utc), favourites_count=2991, utc_offset=None, time_zone=None, geo_enabled=False, verified=False, statuses_count=2083, lang=None, contributors_enabled=False, is_translator=False, is_translation_enabled=False, profile_background_color='F5F8FA', profile_background_image_url=None, profile_background_image_url_https=None, profile_background_tile=False, profile_image_url='http://pbs.twimg.com/profile_images/1519716643341242368/Agt-kdRD_normal.jpg', profile_image_url_https='https://pbs.twimg.com/profile_images/1519716643341242368/Agt-kdRD_normal.jpg', profile_banner_url='https://pbs.twimg.com/profile_banners/1213420105071120384/1624697372', profile_link_color='1DA1F2', profile_sidebar_border_color='C0DEED', profile_sidebar_fill_color='DDEEF6', profile_text_color='333333', profile_use_background_image=True, has_extended_profile=True, default_profile=True, default_profile_image=False, following=False, follow_request_sent=False, notifications=False, translator_type='none', withheld_in_countries=[]), geo=None, coordinates=None, place=None, contributors=None, retweeted_status=Status(_api=<tweepy.api.API object at 0x7f9a28104490>, _json={'created_at': 'Thu Jan 19 08:20:26 +0000 2023', 'id': 1615987535284695040, 'id_str': '1615987535284695040', 'text': 'Work! Info buat belajar mandiri Pemasaran Digital, disitu lengkap mulai dari karir hingga bisnis. Cari di App/Play… https://t.co/1CNNz0Igss', 'truncated': True, 'entities': {'hashtags': [], 'symbols': [], 'user_mentions': [], 'urls': [{'url': 'https://t.co/1CNNz0Igss', 'expanded_url': 'https://twitter.com/i/web/status/1615987535284695040', 'display_url': 'twitter.com/i/web/status/1…', 'indices': [116, 139]}]}, 'metadata': {'iso_language_code': 'in', 'result_type': 'recent'}, 'source': '<a href=\"https://twitter.com/worksfess\" rel=\"nofollow\">WORKSFESS</a>', 'in_reply_to_status_id': None, 'in_reply_to_status_id_str': None, 'in_reply_to_user_id': None, 'in_reply_to_user_id_str': None, 'in_reply_to_screen_name': None, 'user': {'id': 1244597361826885636, 'id_str': '1244597361826885636', 'name': 'BACA RULES DI (bit.ly/worksfess)', 'screen_name': 'worksfess', 'location': 'MENGENAI KAMI', 'description': 'Autobase untuk sharing yang berhubungan dengan pekerjaan || Managed by @magnitvde', 'url': 'https://t.co/Pm4Wibo48t', 'entities': {'url': {'urls': [{'url': 'https://t.co/Pm4Wibo48t', 'expanded_url': 'http://bit.ly/worksfess', 'display_url': 'bit.ly/worksfess', 'indices': [0, 23]}]}, 'description': {'urls': []}}, 'protected': False, 'followers_count': 543979, 'friends_count': 12174, 'listed_count': 2679, 'created_at': 'Mon Mar 30 12:08:48 +0000 2020', 'favourites_count': 9, 'utc_offset': None, 'time_zone': None, 'geo_enabled': False, 'verified': False, 'statuses_count': 437811, 'lang': None, 'contributors_enabled': False, 'is_translator': False, 'is_translation_enabled': False, 'profile_background_color': 'F5F8FA', 'profile_background_image_url': None, 'profile_background_image_url_https': None, 'profile_background_tile': False, 'profile_image_url': 'http://pbs.twimg.com/profile_images/1325713555358806016/5XcnqK4i_normal.jpg', 'profile_image_url_https': 'https://pbs.twimg.com/profile_images/1325713555358806016/5XcnqK4i_normal.jpg', 'profile_banner_url': 'https://pbs.twimg.com/profile_banners/1244597361826885636/1648904883', 'profile_link_color': '1DA1F2', 'profile_sidebar_border_color': 'C0DEED', 'profile_sidebar_fill_color': 'DDEEF6', 'profile_text_color': '333333', 'profile_use_background_image': True, 'has_extended_profile': False, 'default_profile': True, 'default_profile_image': False, 'following': False, 'follow_request_sent': False, 'notifications': False, 'translator_type': 'none', 'withheld_in_countries': []}, 'geo': None, 'coordinates': None, 'place': None, 'contributors': None, 'is_quote_status': False, 'retweet_count': 26, 'favorite_count': 98, 'favorited': False, 'retweeted': False, 'possibly_sensitive': False, 'lang': 'in'}, created_at=datetime.datetime(2023, 1, 19, 8, 20, 26, tzinfo=datetime.timezone.utc), id=1615987535284695040, id_str='1615987535284695040', text='Work! Info buat belajar mandiri Pemasaran Digital, disitu lengkap mulai dari karir hingga bisnis. Cari di App/Play… https://t.co/1CNNz0Igss', truncated=True, entities={'hashtags': [], 'symbols': [], 'user_mentions': [], 'urls': [{'url': 'https://t.co/1CNNz0Igss', 'expanded_url': 'https://twitter.com/i/web/status/1615987535284695040', 'display_url': 'twitter.com/i/web/status/1…', 'indices': [116, 139]}]}, metadata={'iso_language_code': 'in', 'result_type': 'recent'}, source='WORKSFESS', source_url='https://twitter.com/worksfess', in_reply_to_status_id=None, in_reply_to_status_id_str=None, in_reply_to_user_id=None, in_reply_to_user_id_str=None, in_reply_to_screen_name=None, author=User(_api=<tweepy.api.API object at 0x7f9a28104490>, _json={'id': 1244597361826885636, 'id_str': '1244597361826885636', 'name': 'BACA RULES DI (bit.ly/worksfess)', 'screen_name': 'worksfess', 'location': 'MENGENAI KAMI', 'description': 'Autobase untuk sharing yang berhubungan dengan pekerjaan || Managed by @magnitvde', 'url': 'https://t.co/Pm4Wibo48t', 'entities': {'url': {'urls': [{'url': 'https://t.co/Pm4Wibo48t', 'expanded_url': 'http://bit.ly/worksfess', 'display_url': 'bit.ly/worksfess', 'indices': [0, 23]}]}, 'description': {'urls': []}}, 'protected': False, 'followers_count': 543979, 'friends_count': 12174, 'listed_count': 2679, 'created_at': 'Mon Mar 30 12:08:48 +0000 2020', 'favourites_count': 9, 'utc_offset': None, 'time_zone': None, 'geo_enabled': False, 'verified': False, 'statuses_count': 437811, 'lang': None, 'contributors_enabled': False, 'is_translator': False, 'is_translation_enabled': False, 'profile_background_color': 'F5F8FA', 'profile_background_image_url': None, 'profile_background_image_url_https': None, 'profile_background_tile': False, 'profile_image_url': 'http://pbs.twimg.com/profile_images/1325713555358806016/5XcnqK4i_normal.jpg', 'profile_image_url_https': 'https://pbs.twimg.com/profile_images/1325713555358806016/5XcnqK4i_normal.jpg', 'profile_banner_url': 'https://pbs.twimg.com/profile_banners/1244597361826885636/1648904883', 'profile_link_color': '1DA1F2', 'profile_sidebar_border_color': 'C0DEED', 'profile_sidebar_fill_color': 'DDEEF6', 'profile_text_color': '333333', 'profile_use_background_image': True, 'has_extended_profile': False, 'default_profile': True, 'default_profile_image': False, 'following': False, 'follow_request_sent': False, 'notifications': False, 'translator_type': 'none', 'withheld_in_countries': []}, id=1244597361826885636, id_str='1244597361826885636', name='BACA RULES DI (bit.ly/worksfess)', screen_name='worksfess', location='MENGENAI KAMI', description='Autobase untuk sharing yang berhubungan dengan pekerjaan || Managed by @magnitvde', url='https://t.co/Pm4Wibo48t', entities={'url': {'urls': [{'url': 'https://t.co/Pm4Wibo48t', 'expanded_url': 'http://bit.ly/worksfess', 'display_url': 'bit.ly/worksfess', 'indices': [0, 23]}]}, 'description': {'urls': []}}, protected=False, followers_count=543979, friends_count=12174, listed_count=2679, created_at=datetime.datetime(2020, 3, 30, 12, 8, 48, tzinfo=datetime.timezone.utc), favourites_count=9, utc_offset=None, time_zone=None, geo_enabled=False, verified=False, statuses_count=437811, lang=None, contributors_enabled=False, is_translator=False, is_translation_enabled=False, profile_background_color='F5F8FA', profile_background_image_url=None, profile_background_image_url_https=None, profile_background_tile=False, profile_image_url='http://pbs.twimg.com/profile_images/1325713555358806016/5XcnqK4i_normal.jpg', profile_image_url_https='https://pbs.twimg.com/profile_images/1325713555358806016/5XcnqK4i_normal.jpg', profile_banner_url='https://pbs.twimg.com/profile_banners/1244597361826885636/1648904883', profile_link_color='1DA1F2', profile_sidebar_border_color='C0DEED', profile_sidebar_fill_color='DDEEF6', profile_text_color='333333', profile_use_background_image=True, has_extended_profile=False, default_profile=True, default_profile_image=False, following=False, follow_request_sent=False, notifications=False, translator_type='none', withheld_in_countries=[]), user=User(_api=<tweepy.api.API object at 0x7f9a28104490>, _json={'id': 1244597361826885636, 'id_str': '1244597361826885636', 'name': 'BACA RULES DI (bit.ly/worksfess)', 'screen_name': 'worksfess', 'location': 'MENGENAI KAMI', 'description': 'Autobase untuk sharing yang berhubungan dengan pekerjaan || Managed by @magnitvde', 'url': 'https://t.co/Pm4Wibo48t', 'entities': {'url': {'urls': [{'url': 'https://t.co/Pm4Wibo48t', 'expanded_url': 'http://bit.ly/worksfess', 'display_url': 'bit.ly/worksfess', 'indices': [0, 23]}]}, 'description': {'urls': []}}, 'protected': False, 'followers_count': 543979, 'friends_count': 12174, 'listed_count': 2679, 'created_at': 'Mon Mar 30 12:08:48 +0000 2020', 'favourites_count': 9, 'utc_offset': None, 'time_zone': None, 'geo_enabled': False, 'verified': False, 'statuses_count': 437811, 'lang': None, 'contributors_enabled': False, 'is_translator': False, 'is_translation_enabled': False, 'profile_background_color': 'F5F8FA', 'profile_background_image_url': None, 'profile_background_image_url_https': None, 'profile_background_tile': False, 'profile_image_url': 'http://pbs.twimg.com/profile_images/1325713555358806016/5XcnqK4i_normal.jpg', 'profile_image_url_https': 'https://pbs.twimg.com/profile_images/1325713555358806016/5XcnqK4i_normal.jpg', 'profile_banner_url': 'https://pbs.twimg.com/profile_banners/1244597361826885636/1648904883', 'profile_link_color': '1DA1F2', 'profile_sidebar_border_color': 'C0DEED', 'profile_sidebar_fill_color': 'DDEEF6', 'profile_text_color': '333333', 'profile_use_background_image': True, 'has_extended_profile': False, 'default_profile': True, 'default_profile_image': False, 'following': False, 'follow_request_sent': False, 'notifications': False, 'translator_type': 'none', 'withheld_in_countries': []}, id=1244597361826885636, id_str='1244597361826885636', name='BACA RULES DI (bit.ly/worksfess)', screen_name='worksfess', location='MENGENAI KAMI', description='Autobase untuk sharing yang berhubungan dengan pekerjaan || Managed by @magnitvde', url='https://t.co/Pm4Wibo48t', entities={'url': {'urls': [{'url': 'https://t.co/Pm4Wibo48t', 'expanded_url': 'http://bit.ly/worksfess', 'display_url': 'bit.ly/worksfess', 'indices': [0, 23]}]}, 'description': {'urls': []}}, protected=False, followers_count=543979, friends_count=12174, listed_count=2679, created_at=datetime.datetime(2020, 3, 30, 12, 8, 48, tzinfo=datetime.timezone.utc), favourites_count=9, utc_offset=None, time_zone=None, geo_enabled=False, verified=False, statuses_count=437811, lang=None, contributors_enabled=False, is_translator=False, is_translation_enabled=False, profile_background_color='F5F8FA', profile_background_image_url=None, profile_background_image_url_https=None, profile_background_tile=False, profile_image_url='http://pbs.twimg.com/profile_images/1325713555358806016/5XcnqK4i_normal.jpg', profile_image_url_https='https://pbs.twimg.com/profile_images/1325713555358806016/5XcnqK4i_normal.jpg', profile_banner_url='https://pbs.twimg.com/profile_banners/1244597361826885636/1648904883', profile_link_color='1DA1F2', profile_sidebar_border_color='C0DEED', profile_sidebar_fill_color='DDEEF6', profile_text_color='333333', profile_use_background_image=True, has_extended_profile=False, default_profile=True, default_profile_image=False, following=False, follow_request_sent=False, notifications=False, translator_type='none', withheld_in_countries=[]), geo=None, coordinates=None, place=None, contributors=None, is_quote_status=False, retweet_count=26, favorite_count=98, favorited=False, retweeted=False, possibly_sensitive=False, lang='in'), is_quote_status=False, retweet_count=26, favorite_count=0, favorited=False, retweeted=False, lang='in')]"
      ]
     },
     "execution_count": 103,
     "metadata": {},
     "output_type": "execute_result"
    }
   ],
   "source": [
    "api.search_tweets(q='Indonesia', count=1)"
   ]
  },
  {
   "cell_type": "markdown",
   "metadata": {},
   "source": [
    "## 4. Scrape Text Tweet"
   ]
  },
  {
   "cell_type": "code",
   "execution_count": 107,
   "metadata": {},
   "outputs": [
    {
     "name": "stdout",
     "output_type": "stream",
     "text": [
      "- RT @DailySoleh: Talenta sebagus ini masih ada aja yg julitin emang rada sinting netijen wakanda \n",
      "@agnezmo thank you !! Selamatkan talenta t…\n",
      "- Hai butuh jasa #pengobatan #alternatif #susuk #pelet di #jakarta #bogor #bekasi #jabodetabek #indonesia HotLine:08 ##jakarta #bekasi #bogor\n",
      "- Bahasa Indonesia Daesang bonsang tuh apa ges?\n",
      "- RT @ManiratangaZph1: Honoré de rencontrer S.E @Menlu_RI Ministre des Affaires Etrangères d' #Indonesia à qui j'ai transmis les salutations…\n",
      "- RT @franslim20: Kok susah terjual 😭\n",
      "\n",
      "Plis help me\n",
      "\n",
      "#EXO #EXOL #EXOSC_BackToBack #EXOSCInJKT #SEHUN #CHANYEOL @ime_indonesia @weareoneEXO #E…\n",
      "- RT @KompasTV: Tuntutan Eliezer Lebih Berat dari Putri Candrawathi, Percuma Jujur di Indonesia? https://t.co/7l9rY4McgZ\n",
      "- RT @BigStartEnt: [ANNOUNCEMENT]\n",
      "\n",
      "The time has come! VIVIZ is finally going to meet Indonesian Na.V🦋 in \"THE 1ST VIVID DAYZ IN JAKARTA\", the…\n",
      "- RT @DailySoleh: Talenta sebagus ini masih ada aja yg julitin emang rada sinting netijen wakanda \n",
      "@agnezmo thank you !! Selamatkan talenta t…\n",
      "- RT @ferry_kdg: Hanya ada di Indonesia...💪🇮🇩🇮🇩 https://t.co/0PdVeE5elU\n",
      "- RT @haechanconfess: sfs! \"selamat ulang tahun nature republic indonesia\" - haechan 🥹\n",
      " https://t.co/jI6QNGhgxh\n"
     ]
    }
   ],
   "source": [
    "for twt in api.search_tweets(q=\"Indonesia\",count=10):\n",
    "  print('-',twt.text)"
   ]
  },
  {
   "cell_type": "markdown",
   "metadata": {},
   "source": [
    "## 5. Scrape Full Text Tweet"
   ]
  },
  {
   "cell_type": "code",
   "execution_count": 109,
   "metadata": {},
   "outputs": [
    {
     "name": "stdout",
     "output_type": "stream",
     "text": [
      "- RT @MuhammadSaewad: Sebanyak ini pengangguran di Indonesia, Kemana lowongan kerja untuk mereka? https://t.co/07mjsVsCkE\n",
      "- RT @MissElcria: 📣🔔GIVEAWAY ALERT🔔 📣 \n",
      "( Celebration for BIBLEBUILD New Series )\n",
      "4 MINUTES\n",
      " \n",
      "For 5 Lucky Indonesia Bubbles, Bsumbody, Beyourl…\n",
      "- RT @YudiSet16452924: Sepertinya perang cepat atau lambat bisa terjadi di negri ini, jika perang benar terjadi kita minta pertanggung jawaba…\n",
      "- permasalahan stunting dan kemiskinan ekstrem menjadi tantangan berat yang akan dihadapi. Keduanya menjadi prioritas dan harus ditangani dengan baik untuk menggapai cita-cita Indonesia Maju tahun 2045. \n",
      "\n",
      "https://t.co/6viyNywNGR\n",
      "- RT @MeghUpdates: India officially becomes the world’s most populous country according to 2023 latest UN stats: \n",
      "\n",
      "1️⃣ India 🇮🇳 1.43B\n",
      "2️⃣ Chi…\n",
      "- RT @YRadianto: Yang ngaku kesambet ini adalah pemuja orang yang menjadi diktator Indonesia selama 32 tahun. Orang yang menyebabkan kematian…\n",
      "- RT @jinniusid: Jinnius Project Birthday\n",
      "By Jinnius Indonesia \n",
      "\n",
      "Happy Birthday JINNY\n",
      "#SwagRapperJINNYDay\n",
      "#JINNY @5ecretNumber https://t.co/Y…\n",
      "- RT @VStoreTTAandSMA: ⏰48Hrs #VStoreGATime #IDOLCHAMP ⏰\n",
      "\n",
      "300 💙 GLOBAL PROJECT - Indonesia\n",
      "\n",
      "Available: 200K 💙 chamsims\n",
      "\n",
      "Rules: \n",
      "📍Follow, Like…\n",
      "- Makanan kt indonesia ni sumpah sedap 🥲 kedai tepi jalan pun sedap.. dah la murah, i can spend &lt;rm15 a day, and can get two meals with ayam, sayur, sides and drinks.. \n",
      "\n",
      "I wont want to go back to utp at this rate 😭😭😭😭\n",
      "- RT @chaterine_8: Program rumah milenial yg digagas @erickthohir adlh utk membantu &amp; memudahkan generasi muda memiliki hunian pribadi dgn me…\n"
     ]
    }
   ],
   "source": [
    "for twt in api.search_tweets(q=\"Indonesia\",count=10,tweet_mode='extended'):\n",
    "  print('-',twt.full_text)"
   ]
  },
  {
   "cell_type": "markdown",
   "metadata": {},
   "source": [
    "## 6. Scrape Total Retweet from tweet"
   ]
  },
  {
   "cell_type": "code",
   "execution_count": 113,
   "metadata": {},
   "outputs": [
    {
     "name": "stdout",
     "output_type": "stream",
     "text": [
      "- 20\n",
      "- 0\n",
      "- 2631\n",
      "- 51\n",
      "- 0\n",
      "- 17\n",
      "- 3\n",
      "- 0\n",
      "- 191\n",
      "- 3\n"
     ]
    }
   ],
   "source": [
    "for twt in api.search_tweets(q=\"Indonesia\",count=10,tweet_mode='extended'):\n",
    "  print('-',twt.retweet_count)"
   ]
  },
  {
   "cell_type": "markdown",
   "metadata": {},
   "source": [
    "## 7. Scrape Total Like from tweet"
   ]
  },
  {
   "cell_type": "code",
   "execution_count": 115,
   "metadata": {},
   "outputs": [
    {
     "name": "stdout",
     "output_type": "stream",
     "text": [
      "- 0\n",
      "- 0\n",
      "- 0\n",
      "- 0\n",
      "- 0\n",
      "- 0\n",
      "- 0\n",
      "- 0\n",
      "- 0\n"
     ]
    }
   ],
   "source": [
    "for twt in api.search_tweets(q=\"Indonesia\",count=10,tweet_mode='extended'):\n",
    "  print('-',twt.favorite_count)"
   ]
  },
  {
   "cell_type": "markdown",
   "metadata": {},
   "source": [
    "## 8. Scrape tweet created date"
   ]
  },
  {
   "cell_type": "code",
   "execution_count": 117,
   "metadata": {},
   "outputs": [
    {
     "name": "stdout",
     "output_type": "stream",
     "text": [
      "- 2023-01-19 14:33:33+00:00\n",
      "- 2023-01-19 14:33:32+00:00\n",
      "- 2023-01-19 14:33:32+00:00\n",
      "- 2023-01-19 14:33:31+00:00\n",
      "- 2023-01-19 14:33:31+00:00\n",
      "- 2023-01-19 14:33:31+00:00\n",
      "- 2023-01-19 14:33:30+00:00\n",
      "- 2023-01-19 14:33:30+00:00\n",
      "- 2023-01-19 14:33:29+00:00\n",
      "- 2023-01-19 14:33:29+00:00\n"
     ]
    }
   ],
   "source": [
    "for twt in api.search_tweets(q=\"Indonesia\",count=10,tweet_mode='extended'):\n",
    "  print('-',twt.created_at)"
   ]
  },
  {
   "cell_type": "markdown",
   "metadata": {},
   "source": [
    "## 9. Scrape tweet username"
   ]
  },
  {
   "cell_type": "code",
   "execution_count": 119,
   "metadata": {},
   "outputs": [
    {
     "name": "stdout",
     "output_type": "stream",
     "text": [
      "- strawberrygyu30\n",
      "- bsumbodybb97\n",
      "- SantosoBob\n",
      "- fontanaporn4\n",
      "- Kungrattana3\n",
      "- bibwithyou\n",
      "- nnisha_18\n",
      "- helen_hhm\n",
      "- ChrissykkMayB5\n",
      "- cysoohun\n"
     ]
    }
   ],
   "source": [
    "for twt in api.search_tweets(q=\"Indonesia\",count=10,tweet_mode='extended'):\n",
    "  print('-',twt.user.screen_name)"
   ]
  },
  {
   "cell_type": "code",
   "execution_count": 121,
   "metadata": {},
   "outputs": [
    {
     "name": "stdout",
     "output_type": "stream",
     "text": [
      "- Tugas Easy Mulai 5000 Ajaa🔥🔥\n",
      "- Agnan\n",
      "- эъчт\n",
      "- Faiq Galang\n",
      "- Lins1954\n",
      "- José Fernandes\n",
      "- ☭ PENDOSA ULUNG ☭\n",
      "- Pom BW\n",
      "- Nurhidayati\n"
     ]
    }
   ],
   "source": [
    "for twt in api.search_tweets(q=\"Indonesia\",count=10,tweet_mode='extended'):\n",
    "  print('-',twt.user.name)"
   ]
  },
  {
   "cell_type": "markdown",
   "metadata": {},
   "source": [
    "## 10. Scrape Tweet by Date"
   ]
  },
  {
   "cell_type": "code",
   "execution_count": 125,
   "metadata": {},
   "outputs": [
    {
     "name": "stdout",
     "output_type": "stream",
     "text": [
      "- 2023-01-19 14:38:07+00:00 RT @KompasTV: Tuntutan Eliezer Lebih Berat dari Putri Candrawathi, Percuma Jujur di Indonesia? https://t.co/7l9rY4McgZ\n",
      "- 2023-01-19 14:38:06+00:00 RT @_adorabletrex: Sampe kiamat ga bakal maju pendidikan kita, kalo ujung tombak pendidikan, guru,  belum sejahtera. &gt;50% dari jumlah guru…\n",
      "- 2023-01-19 14:38:05+00:00 RT @miwmyeon: « wts / lfb ina »\n",
      "\n",
      "✧ le sserafim chaewon, kazuha, sakura fearless naverlive benefit photocard ✧\n",
      "\n",
      "⊹ ⊹  80,000/each ⊹ ⊹\n",
      "\n",
      "┊ excl…\n",
      "- 2023-01-19 14:38:05+00:00 RT @BigStartEnt: [ANNOUNCEMENT]\n",
      "\n",
      "The time has come! VIVIZ is finally going to meet Indonesian Na.V🦋 in \"THE 1ST VIVID DAYZ IN JAKARTA\", the…\n"
     ]
    }
   ],
   "source": [
    "for twt in api.search_tweets(q=\"Indonesia\",count=5,tweet_mode='extended'):\n",
    "  print(f'- {twt.created_at} {twt.full_text}')"
   ]
  },
  {
   "cell_type": "code",
   "execution_count": 126,
   "metadata": {},
   "outputs": [
    {
     "name": "stdout",
     "output_type": "stream",
     "text": [
      "- 2023-01-14 23:59:59+00:00 •\n",
      "Kabag SDM Polres Tuban KOMPOL Musa Bachtiar A, S.Sos., M.M. memimpin kegiatan Beladiri Polri dalam rangka peningkatan kemampuan di Lapangan Belakang Polres Tuban \n",
      "\n",
      "@divisihumaspolri \n",
      "@humaspoldajatim \n",
      "@polisi_indonesia\n",
      "\n",
      "#polisi #police #polisiviral #polisijatim https://t.co/jjvx0E9SHm\n",
      "- 2023-01-14 23:59:54+00:00 RT @orabra1: ฝากคลิ๊กเข้าไปอ่านข่าวน้องกันเยอะๆนะคะ 🙏 @bbrightvc #bbrightvc \n",
      "Bright Vachirawit https://t.co/sDiH1Oov8C\n",
      "- 2023-01-14 23:59:51+00:00 @msaid_didu Bisa daeng syaratnya pengusaha mata sipit\n",
      "Aman semua dinegeri ini\n",
      "\n",
      "Coba warga Negera Indonesia apalagi bersebrangan dengan rezim pasti hukum seumur hidup\n",
      "- 2023-01-14 23:59:50+00:00 RT @summer164888: RESMI! Bright Vachirawit FAN MEETING di Indonesia Bersama Ichitan Januari 2023: Simak Tanggal dan Tempat https://t.co/sVt…\n",
      "- 2023-01-14 23:59:48+00:00 RT @BadmintonTalk: First tournament as World Number One: FIRST EVER Super 1000 FINAL\n",
      "\n",
      "Fajar Alfian/Muhammad Rian Ardianto\n",
      "\n",
      "Satu-satunya pem…\n"
     ]
    }
   ],
   "source": [
    "for twt in api.search_tweets(q=\"indonesia\",count=5,tweet_mode='extended',until = \"2023-01-15\"):\n",
    "  print(f'- {twt.created_at} {twt.full_text}')"
   ]
  },
  {
   "cell_type": "code",
   "execution_count": 130,
   "metadata": {},
   "outputs": [
    {
     "name": "stdout",
     "output_type": "stream",
     "text": [
      "- 2023-01-18 23:59:58+00:00 RT @hiyyihpaws27: Another bday ads we want to achieve for hiyyih. This ads located in Jakarta, capital city of Indonesia. There will be 7 u…\n",
      "- 2023-01-18 23:59:58+00:00 Sepertinya tidak legowo minta maaf ya cak.\n",
      "Tak ada api maka tak ada asap.\n",
      "Yang cak hina itu Presiden Republik Indonesia bukan kaleng-kaleng.\n",
      ".. https://t.co/TcxejJlDm3\n",
      "- 2023-01-18 23:59:56+00:00 Terremoto de magnitude 7 atinge o leste da Indonésia https://t.co/DHzNlpMmcs\n",
      "- 2023-01-18 23:59:56+00:00 @firzahusainInc URUSAN AGAMA DAN AKHIRAT TANYA PAK KIYAI.\n",
      "URUSAN SIAPA PEMIMPIN INDONESIA DI 2024 NANTI TANYA DAN IKUTI APA KATA JOKOWI..♥️🇮🇩\n",
      "- 2023-01-18 23:59:52+00:00 @janjimanis69 @suami_tergoda @fr333akk 😆 sama aku gak tau bahasa indonesia nya jg,, mungkin hyperaktif/overaktif\n"
     ]
    }
   ],
   "source": [
    "since = \"2023-01-13\"\n",
    "until = \"2023-01-19\"\n",
    "\n",
    "keyword = \"Indonesia\"\n",
    "query = f\"since:{since} until:{until} {keyword}\"\n",
    "\n",
    "for twt in api.search_tweets(q=query,count=5,tweet_mode='extended'):\n",
    "  print(f'- {twt.created_at} {twt.full_text}')"
   ]
  },
  {
   "cell_type": "markdown",
   "metadata": {},
   "source": [
    "## 11. Get Data To Pandas\n"
   ]
  },
  {
   "cell_type": "code",
   "execution_count": 131,
   "metadata": {},
   "outputs": [],
   "source": [
    "since = \"2023-01-13\"\n",
    "until = \"2023-01-19\"\n",
    "\n",
    "keyword = \"indonesia\"\n",
    "query = f\"since:{since} until:{until} {keyword}\"\n",
    "\n",
    "tweets = []\n",
    "\n",
    "for twt in api.search_tweets(q=query,count=500,tweet_mode='extended'):\n",
    "  tweets.append([twt.created_at,twt.user.screen_name,twt.user.name,twt.full_text,twt.retweet_count,twt.favorite_count])\n",
    "\n",
    "data = pd.DataFrame(tweets,columns=[\"Created at\",\"Username\", \"Name\", \"Tweets\",\" Retweets\", \"Likes\"])"
   ]
  },
  {
   "cell_type": "code",
   "execution_count": 135,
   "metadata": {},
   "outputs": [
    {
     "data": {
      "text/html": [
       "<div>\n",
       "<style scoped>\n",
       "    .dataframe tbody tr th:only-of-type {\n",
       "        vertical-align: middle;\n",
       "    }\n",
       "\n",
       "    .dataframe tbody tr th {\n",
       "        vertical-align: top;\n",
       "    }\n",
       "\n",
       "    .dataframe thead th {\n",
       "        text-align: right;\n",
       "    }\n",
       "</style>\n",
       "<table border=\"1\" class=\"dataframe\">\n",
       "  <thead>\n",
       "    <tr style=\"text-align: right;\">\n",
       "      <th></th>\n",
       "      <th>Created at</th>\n",
       "      <th>Username</th>\n",
       "      <th>Name</th>\n",
       "      <th>Tweets</th>\n",
       "      <th>Retweets</th>\n",
       "      <th>Likes</th>\n",
       "    </tr>\n",
       "  </thead>\n",
       "  <tbody>\n",
       "    <tr>\n",
       "      <th>0</th>\n",
       "      <td>2023-01-18 23:59:58+00:00</td>\n",
       "      <td>hiyyih_mel</td>\n",
       "      <td>hiyymel</td>\n",
       "      <td>RT @hiyyihpaws27: Another bday ads we want to ...</td>\n",
       "      <td>52</td>\n",
       "      <td>0</td>\n",
       "    </tr>\n",
       "    <tr>\n",
       "      <th>1</th>\n",
       "      <td>2023-01-18 23:59:58+00:00</td>\n",
       "      <td>_CocoteTonggo_</td>\n",
       "      <td>𝕮𝖔𝖈𝖔𝖙𝖊 𝕿𝖔𝖓𝖌𝖌𝖔</td>\n",
       "      <td>Sepertinya tidak legowo minta maaf ya cak.\\nTa...</td>\n",
       "      <td>4</td>\n",
       "      <td>25</td>\n",
       "    </tr>\n",
       "    <tr>\n",
       "      <th>2</th>\n",
       "      <td>2023-01-18 23:59:56+00:00</td>\n",
       "      <td>JonySmartfacil</td>\n",
       "      <td>#Goinfelicidadeinsualife🏁</td>\n",
       "      <td>Terremoto de magnitude 7 atinge o leste da Ind...</td>\n",
       "      <td>0</td>\n",
       "      <td>0</td>\n",
       "    </tr>\n",
       "    <tr>\n",
       "      <th>3</th>\n",
       "      <td>2023-01-18 23:59:56+00:00</td>\n",
       "      <td>kokocien</td>\n",
       "      <td>mutasabih mut</td>\n",
       "      <td>@firzahusainInc URUSAN AGAMA DAN AKHIRAT TANYA...</td>\n",
       "      <td>0</td>\n",
       "      <td>2</td>\n",
       "    </tr>\n",
       "    <tr>\n",
       "      <th>4</th>\n",
       "      <td>2023-01-18 23:59:52+00:00</td>\n",
       "      <td>dyavi22</td>\n",
       "      <td>d'yaree</td>\n",
       "      <td>@janjimanis69 @suami_tergoda @fr333akk 😆 sama ...</td>\n",
       "      <td>0</td>\n",
       "      <td>0</td>\n",
       "    </tr>\n",
       "    <tr>\n",
       "      <th>...</th>\n",
       "      <td>...</td>\n",
       "      <td>...</td>\n",
       "      <td>...</td>\n",
       "      <td>...</td>\n",
       "      <td>...</td>\n",
       "      <td>...</td>\n",
       "    </tr>\n",
       "    <tr>\n",
       "      <th>191</th>\n",
       "      <td>2023-01-19 14:42:02+00:00</td>\n",
       "      <td>rusdiantobr</td>\n",
       "      <td>RUSDIANTOBR RUSDIANTO</td>\n",
       "      <td>NASIB ORANG PARTAI PIB YANG ADA DI LUAR NEGERI...</td>\n",
       "      <td>0</td>\n",
       "      <td>0</td>\n",
       "    </tr>\n",
       "    <tr>\n",
       "      <th>192</th>\n",
       "      <td>2023-01-19 14:42:02+00:00</td>\n",
       "      <td>doychimoy</td>\n",
       "      <td>노비 | Vie 비 | (ᓀ‸ᓂ) #Ay_Yo</td>\n",
       "      <td>RT @naturepublic_id: Pesan Cinta! 💚\\n\\nNature ...</td>\n",
       "      <td>610</td>\n",
       "      <td>0</td>\n",
       "    </tr>\n",
       "    <tr>\n",
       "      <th>193</th>\n",
       "      <td>2023-01-19 14:42:01+00:00</td>\n",
       "      <td>mbahndi</td>\n",
       "      <td>Ki Samber Edan</td>\n",
       "      <td>Kenapa orang Tionghoa Indonesia banyak yang na...</td>\n",
       "      <td>0</td>\n",
       "      <td>1</td>\n",
       "    </tr>\n",
       "    <tr>\n",
       "      <th>194</th>\n",
       "      <td>2023-01-19 14:42:00+00:00</td>\n",
       "      <td>Iliko24503492</td>\n",
       "      <td>Iliko</td>\n",
       "      <td>RT @number_dita: Vote  DITA for \"The Most Popu...</td>\n",
       "      <td>14</td>\n",
       "      <td>0</td>\n",
       "    </tr>\n",
       "    <tr>\n",
       "      <th>195</th>\n",
       "      <td>2023-01-19 14:42:00+00:00</td>\n",
       "      <td>dailypir</td>\n",
       "      <td>piraaa akun baru🥺✨</td>\n",
       "      <td>RT @DailySoleh: Talenta sebagus ini masih ada ...</td>\n",
       "      <td>9075</td>\n",
       "      <td>0</td>\n",
       "    </tr>\n",
       "  </tbody>\n",
       "</table>\n",
       "<p>196 rows × 6 columns</p>\n",
       "</div>"
      ],
      "text/plain": [
       "                   Created at        Username                       Name  \\\n",
       "0   2023-01-18 23:59:58+00:00      hiyyih_mel                    hiyymel   \n",
       "1   2023-01-18 23:59:58+00:00  _CocoteTonggo_              𝕮𝖔𝖈𝖔𝖙𝖊 𝕿𝖔𝖓𝖌𝖌𝖔   \n",
       "2   2023-01-18 23:59:56+00:00  JonySmartfacil  #Goinfelicidadeinsualife🏁   \n",
       "3   2023-01-18 23:59:56+00:00        kokocien              mutasabih mut   \n",
       "4   2023-01-18 23:59:52+00:00         dyavi22                    d'yaree   \n",
       "..                        ...             ...                        ...   \n",
       "191 2023-01-19 14:42:02+00:00     rusdiantobr      RUSDIANTOBR RUSDIANTO   \n",
       "192 2023-01-19 14:42:02+00:00       doychimoy  노비 | Vie 비 | (ᓀ‸ᓂ) #Ay_Yo   \n",
       "193 2023-01-19 14:42:01+00:00         mbahndi             Ki Samber Edan   \n",
       "194 2023-01-19 14:42:00+00:00   Iliko24503492                      Iliko   \n",
       "195 2023-01-19 14:42:00+00:00        dailypir         piraaa akun baru🥺✨   \n",
       "\n",
       "                                                Tweets   Retweets  Likes  \n",
       "0    RT @hiyyihpaws27: Another bday ads we want to ...         52      0  \n",
       "1    Sepertinya tidak legowo minta maaf ya cak.\\nTa...          4     25  \n",
       "2    Terremoto de magnitude 7 atinge o leste da Ind...          0      0  \n",
       "3    @firzahusainInc URUSAN AGAMA DAN AKHIRAT TANYA...          0      2  \n",
       "4    @janjimanis69 @suami_tergoda @fr333akk 😆 sama ...          0      0  \n",
       "..                                                 ...        ...    ...  \n",
       "191  NASIB ORANG PARTAI PIB YANG ADA DI LUAR NEGERI...          0      0  \n",
       "192  RT @naturepublic_id: Pesan Cinta! 💚\\n\\nNature ...        610      0  \n",
       "193  Kenapa orang Tionghoa Indonesia banyak yang na...          0      1  \n",
       "194  RT @number_dita: Vote  DITA for \"The Most Popu...         14      0  \n",
       "195  RT @DailySoleh: Talenta sebagus ini masih ada ...       9075      0  \n",
       "\n",
       "[196 rows x 6 columns]"
      ]
     },
     "execution_count": 135,
     "metadata": {},
     "output_type": "execute_result"
    }
   ],
   "source": [
    "data"
   ]
  },
  {
   "cell_type": "code",
   "execution_count": 156,
   "metadata": {},
   "outputs": [
    {
     "data": {
      "text/html": [
       "<div>\n",
       "<style scoped>\n",
       "    .dataframe tbody tr th:only-of-type {\n",
       "        vertical-align: middle;\n",
       "    }\n",
       "\n",
       "    .dataframe tbody tr th {\n",
       "        vertical-align: top;\n",
       "    }\n",
       "\n",
       "    .dataframe thead th {\n",
       "        text-align: right;\n",
       "    }\n",
       "</style>\n",
       "<table border=\"1\" class=\"dataframe\">\n",
       "  <thead>\n",
       "    <tr style=\"text-align: right;\">\n",
       "      <th></th>\n",
       "      <th>Created at</th>\n",
       "      <th>Username</th>\n",
       "      <th>Name</th>\n",
       "      <th>Tweets</th>\n",
       "      <th>Retweets</th>\n",
       "      <th>Likes</th>\n",
       "    </tr>\n",
       "  </thead>\n",
       "  <tbody>\n",
       "    <tr>\n",
       "      <th>0</th>\n",
       "      <td>2023-01-18 23:59:58+00:00</td>\n",
       "      <td>hiyyih_mel</td>\n",
       "      <td>hiyymel</td>\n",
       "      <td>RT @hiyyihpaws27: Another bday ads we want to ...</td>\n",
       "      <td>52</td>\n",
       "      <td>0</td>\n",
       "    </tr>\n",
       "    <tr>\n",
       "      <th>1</th>\n",
       "      <td>2023-01-18 23:59:58+00:00</td>\n",
       "      <td>_CocoteTonggo_</td>\n",
       "      <td>𝕮𝖔𝖈𝖔𝖙𝖊 𝕿𝖔𝖓𝖌𝖌𝖔</td>\n",
       "      <td>Sepertinya tidak legowo minta maaf ya cak.\\nTa...</td>\n",
       "      <td>4</td>\n",
       "      <td>25</td>\n",
       "    </tr>\n",
       "    <tr>\n",
       "      <th>2</th>\n",
       "      <td>2023-01-18 23:59:56+00:00</td>\n",
       "      <td>JonySmartfacil</td>\n",
       "      <td>#Goinfelicidadeinsualife🏁</td>\n",
       "      <td>Terremoto de magnitude 7 atinge o leste da Ind...</td>\n",
       "      <td>0</td>\n",
       "      <td>0</td>\n",
       "    </tr>\n",
       "    <tr>\n",
       "      <th>3</th>\n",
       "      <td>2023-01-18 23:59:56+00:00</td>\n",
       "      <td>kokocien</td>\n",
       "      <td>mutasabih mut</td>\n",
       "      <td>@firzahusainInc URUSAN AGAMA DAN AKHIRAT TANYA...</td>\n",
       "      <td>0</td>\n",
       "      <td>2</td>\n",
       "    </tr>\n",
       "    <tr>\n",
       "      <th>4</th>\n",
       "      <td>2023-01-18 23:59:52+00:00</td>\n",
       "      <td>dyavi22</td>\n",
       "      <td>d'yaree</td>\n",
       "      <td>@janjimanis69 @suami_tergoda @fr333akk 😆 sama ...</td>\n",
       "      <td>0</td>\n",
       "      <td>0</td>\n",
       "    </tr>\n",
       "    <tr>\n",
       "      <th>...</th>\n",
       "      <td>...</td>\n",
       "      <td>...</td>\n",
       "      <td>...</td>\n",
       "      <td>...</td>\n",
       "      <td>...</td>\n",
       "      <td>...</td>\n",
       "    </tr>\n",
       "    <tr>\n",
       "      <th>912</th>\n",
       "      <td>2023-01-19 14:51:28+00:00</td>\n",
       "      <td>ddlvyia</td>\n",
       "      <td>Mint</td>\n",
       "      <td>RT @Jiniya1204: 🐹Raise your rifle!\\n🪖Solidarit...</td>\n",
       "      <td>12782</td>\n",
       "      <td>0</td>\n",
       "    </tr>\n",
       "    <tr>\n",
       "      <th>913</th>\n",
       "      <td>2023-01-19 14:51:28+00:00</td>\n",
       "      <td>bts_nthuylinh</td>\n",
       "      <td>💜</td>\n",
       "      <td>RT @hourlyhobi: HOW CAN HE BE SO FINE\\n\\nFASHI...</td>\n",
       "      <td>171</td>\n",
       "      <td>0</td>\n",
       "    </tr>\n",
       "    <tr>\n",
       "      <th>914</th>\n",
       "      <td>2023-01-19 14:51:28+00:00</td>\n",
       "      <td>YaaywithYoongi</td>\n",
       "      <td>⁷ fan account</td>\n",
       "      <td>Tweet to vote for #BTSArmy for #SquadGoals! @r...</td>\n",
       "      <td>0</td>\n",
       "      <td>0</td>\n",
       "    </tr>\n",
       "    <tr>\n",
       "      <th>915</th>\n",
       "      <td>2023-01-19 14:51:28+00:00</td>\n",
       "      <td>soulego7</td>\n",
       "      <td>Aleng⁷</td>\n",
       "      <td>RT @myglosshy: — ARMY, es momento de ayudar a ...</td>\n",
       "      <td>2513</td>\n",
       "      <td>0</td>\n",
       "    </tr>\n",
       "    <tr>\n",
       "      <th>916</th>\n",
       "      <td>2023-01-19 14:51:28+00:00</td>\n",
       "      <td>btsbestjimin</td>\n",
       "      <td>스마일😁</td>\n",
       "      <td>RT @zzirzzir_mizzir: 사람홀리는 아기고양이 이렇게 예뻐도 되나 싶다...</td>\n",
       "      <td>98</td>\n",
       "      <td>0</td>\n",
       "    </tr>\n",
       "  </tbody>\n",
       "</table>\n",
       "<p>917 rows × 6 columns</p>\n",
       "</div>"
      ],
      "text/plain": [
       "                   Created at        Username                       Name  \\\n",
       "0   2023-01-18 23:59:58+00:00      hiyyih_mel                    hiyymel   \n",
       "1   2023-01-18 23:59:58+00:00  _CocoteTonggo_              𝕮𝖔𝖈𝖔𝖙𝖊 𝕿𝖔𝖓𝖌𝖌𝖔   \n",
       "2   2023-01-18 23:59:56+00:00  JonySmartfacil  #Goinfelicidadeinsualife🏁   \n",
       "3   2023-01-18 23:59:56+00:00        kokocien              mutasabih mut   \n",
       "4   2023-01-18 23:59:52+00:00         dyavi22                    d'yaree   \n",
       "..                        ...             ...                        ...   \n",
       "912 2023-01-19 14:51:28+00:00         ddlvyia                       Mint   \n",
       "913 2023-01-19 14:51:28+00:00   bts_nthuylinh                          💜   \n",
       "914 2023-01-19 14:51:28+00:00  YaaywithYoongi              ⁷ fan account   \n",
       "915 2023-01-19 14:51:28+00:00        soulego7                     Aleng⁷   \n",
       "916 2023-01-19 14:51:28+00:00    btsbestjimin                       스마일😁   \n",
       "\n",
       "                                                Tweets  Retweets  Likes  \n",
       "0    RT @hiyyihpaws27: Another bday ads we want to ...        52      0  \n",
       "1    Sepertinya tidak legowo minta maaf ya cak.\\nTa...         4     25  \n",
       "2    Terremoto de magnitude 7 atinge o leste da Ind...         0      0  \n",
       "3    @firzahusainInc URUSAN AGAMA DAN AKHIRAT TANYA...         0      2  \n",
       "4    @janjimanis69 @suami_tergoda @fr333akk 😆 sama ...         0      0  \n",
       "..                                                 ...       ...    ...  \n",
       "912  RT @Jiniya1204: 🐹Raise your rifle!\\n🪖Solidarit...     12782      0  \n",
       "913  RT @hourlyhobi: HOW CAN HE BE SO FINE\\n\\nFASHI...       171      0  \n",
       "914  Tweet to vote for #BTSArmy for #SquadGoals! @r...         0      0  \n",
       "915  RT @myglosshy: — ARMY, es momento de ayudar a ...      2513      0  \n",
       "916  RT @zzirzzir_mizzir: 사람홀리는 아기고양이 이렇게 예뻐도 되나 싶다...        98      0  \n",
       "\n",
       "[917 rows x 6 columns]"
      ]
     },
     "execution_count": 156,
     "metadata": {},
     "output_type": "execute_result"
    }
   ],
   "source": [
    "for twt in api.search_tweets(q=\"BTS\", count=100000,tweet_mode='extended'):\n",
    "  tweets.append([twt.created_at,twt.user.screen_name,twt.user.name,twt.full_text,twt.retweet_count,twt.favorite_count])\n",
    "\n",
    "data = pd.DataFrame(tweets,columns=[\"Created at\",\"Username\", \"Name\", \"Tweets\",\"Retweets\", \"Likes\"])\n",
    "data"
   ]
  },
  {
   "cell_type": "code",
   "execution_count": 153,
   "metadata": {},
   "outputs": [
    {
     "data": {
      "text/plain": [
       "0        52\n",
       "1         4\n",
       "2         0\n",
       "3         0\n",
       "4         0\n",
       "       ... \n",
       "724      73\n",
       "725    1249\n",
       "726    6124\n",
       "727    6124\n",
       "728      14\n",
       "Name:  Retweets, Length: 729, dtype: int64"
      ]
     },
     "execution_count": 153,
     "metadata": {},
     "output_type": "execute_result"
    }
   ],
   "source": []
  },
  {
   "cell_type": "code",
   "execution_count": 167,
   "metadata": {},
   "outputs": [
    {
     "ename": "TooManyRequests",
     "evalue": "429 Too Many Requests\n88 - Rate limit exceeded",
     "output_type": "error",
     "traceback": [
      "\u001b[0;31m---------------------------------------------------------------------------\u001b[0m",
      "\u001b[0;31mTooManyRequests\u001b[0m                           Traceback (most recent call last)",
      "Cell \u001b[0;32mIn[167], line 1\u001b[0m\n\u001b[0;32m----> 1\u001b[0m \u001b[38;5;28;01mfor\u001b[39;00m twt \u001b[38;5;129;01min\u001b[39;00m tweepy\u001b[38;5;241m.\u001b[39mCursor(api\u001b[38;5;241m.\u001b[39msearch_tweets, q\u001b[38;5;241m=\u001b[39m\u001b[38;5;124m\"\u001b[39m\u001b[38;5;124mBTS\u001b[39m\u001b[38;5;124m\"\u001b[39m,tweet_mode\u001b[38;5;241m=\u001b[39m\u001b[38;5;124m'\u001b[39m\u001b[38;5;124mextended\u001b[39m\u001b[38;5;124m'\u001b[39m)\u001b[38;5;241m.\u001b[39mitems(\u001b[38;5;241m100\u001b[39m):\n\u001b[1;32m      2\u001b[0m   tweets\u001b[38;5;241m.\u001b[39mappend([twt\u001b[38;5;241m.\u001b[39mcreated_at,twt\u001b[38;5;241m.\u001b[39muser\u001b[38;5;241m.\u001b[39mscreen_name,twt\u001b[38;5;241m.\u001b[39muser\u001b[38;5;241m.\u001b[39mname,twt\u001b[38;5;241m.\u001b[39mfull_text,twt\u001b[38;5;241m.\u001b[39mretweet_count,twt\u001b[38;5;241m.\u001b[39mfavorite_count])\n\u001b[1;32m      4\u001b[0m data \u001b[38;5;241m=\u001b[39m pd\u001b[38;5;241m.\u001b[39mDataFrame(tweets,columns\u001b[38;5;241m=\u001b[39m[\u001b[38;5;124m\"\u001b[39m\u001b[38;5;124mCreated at\u001b[39m\u001b[38;5;124m\"\u001b[39m,\u001b[38;5;124m\"\u001b[39m\u001b[38;5;124mUsername\u001b[39m\u001b[38;5;124m\"\u001b[39m, \u001b[38;5;124m\"\u001b[39m\u001b[38;5;124mName\u001b[39m\u001b[38;5;124m\"\u001b[39m, \u001b[38;5;124m\"\u001b[39m\u001b[38;5;124mTweets\u001b[39m\u001b[38;5;124m\"\u001b[39m,\u001b[38;5;124m\"\u001b[39m\u001b[38;5;124m Retweets\u001b[39m\u001b[38;5;124m\"\u001b[39m, \u001b[38;5;124m\"\u001b[39m\u001b[38;5;124mLikes\u001b[39m\u001b[38;5;124m\"\u001b[39m])\n",
      "File \u001b[0;32m~/opt/anaconda3/envs/dss_dash/lib/python3.9/site-packages/tweepy/cursor.py:86\u001b[0m, in \u001b[0;36mBaseIterator.__next__\u001b[0;34m(self)\u001b[0m\n\u001b[1;32m     85\u001b[0m \u001b[38;5;28;01mdef\u001b[39;00m \u001b[38;5;21m__next__\u001b[39m(\u001b[38;5;28mself\u001b[39m):\n\u001b[0;32m---> 86\u001b[0m     \u001b[38;5;28;01mreturn\u001b[39;00m \u001b[38;5;28;43mself\u001b[39;49m\u001b[38;5;241;43m.\u001b[39;49m\u001b[43mnext\u001b[49m\u001b[43m(\u001b[49m\u001b[43m)\u001b[49m\n",
      "File \u001b[0;32m~/opt/anaconda3/envs/dss_dash/lib/python3.9/site-packages/tweepy/cursor.py:286\u001b[0m, in \u001b[0;36mItemIterator.next\u001b[0;34m(self)\u001b[0m\n\u001b[1;32m    283\u001b[0m     \u001b[38;5;28;01mraise\u001b[39;00m \u001b[38;5;167;01mStopIteration\u001b[39;00m\n\u001b[1;32m    284\u001b[0m \u001b[38;5;28;01mif\u001b[39;00m \u001b[38;5;28mself\u001b[39m\u001b[38;5;241m.\u001b[39mcurrent_page \u001b[38;5;129;01mis\u001b[39;00m \u001b[38;5;28;01mNone\u001b[39;00m \u001b[38;5;129;01mor\u001b[39;00m \u001b[38;5;28mself\u001b[39m\u001b[38;5;241m.\u001b[39mpage_index \u001b[38;5;241m==\u001b[39m \u001b[38;5;28mlen\u001b[39m(\u001b[38;5;28mself\u001b[39m\u001b[38;5;241m.\u001b[39mcurrent_page) \u001b[38;5;241m-\u001b[39m \u001b[38;5;241m1\u001b[39m:\n\u001b[1;32m    285\u001b[0m     \u001b[38;5;66;03m# Reached end of current page, get the next page...\u001b[39;00m\n\u001b[0;32m--> 286\u001b[0m     \u001b[38;5;28mself\u001b[39m\u001b[38;5;241m.\u001b[39mcurrent_page \u001b[38;5;241m=\u001b[39m \u001b[38;5;28;43mnext\u001b[39;49m\u001b[43m(\u001b[49m\u001b[38;5;28;43mself\u001b[39;49m\u001b[38;5;241;43m.\u001b[39;49m\u001b[43mpage_iterator\u001b[49m\u001b[43m)\u001b[49m\n\u001b[1;32m    287\u001b[0m     \u001b[38;5;28;01mwhile\u001b[39;00m \u001b[38;5;28mlen\u001b[39m(\u001b[38;5;28mself\u001b[39m\u001b[38;5;241m.\u001b[39mcurrent_page) \u001b[38;5;241m==\u001b[39m \u001b[38;5;241m0\u001b[39m:\n\u001b[1;32m    288\u001b[0m         \u001b[38;5;28mself\u001b[39m\u001b[38;5;241m.\u001b[39mcurrent_page \u001b[38;5;241m=\u001b[39m \u001b[38;5;28mnext\u001b[39m(\u001b[38;5;28mself\u001b[39m\u001b[38;5;241m.\u001b[39mpage_iterator)\n",
      "File \u001b[0;32m~/opt/anaconda3/envs/dss_dash/lib/python3.9/site-packages/tweepy/cursor.py:86\u001b[0m, in \u001b[0;36mBaseIterator.__next__\u001b[0;34m(self)\u001b[0m\n\u001b[1;32m     85\u001b[0m \u001b[38;5;28;01mdef\u001b[39;00m \u001b[38;5;21m__next__\u001b[39m(\u001b[38;5;28mself\u001b[39m):\n\u001b[0;32m---> 86\u001b[0m     \u001b[38;5;28;01mreturn\u001b[39;00m \u001b[38;5;28;43mself\u001b[39;49m\u001b[38;5;241;43m.\u001b[39;49m\u001b[43mnext\u001b[49m\u001b[43m(\u001b[49m\u001b[43m)\u001b[49m\n",
      "File \u001b[0;32m~/opt/anaconda3/envs/dss_dash/lib/python3.9/site-packages/tweepy/cursor.py:167\u001b[0m, in \u001b[0;36mIdIterator.next\u001b[0;34m(self)\u001b[0m\n\u001b[1;32m    164\u001b[0m     \u001b[38;5;28;01mraise\u001b[39;00m \u001b[38;5;167;01mStopIteration\u001b[39;00m\n\u001b[1;32m    166\u001b[0m \u001b[38;5;28;01mif\u001b[39;00m \u001b[38;5;28mself\u001b[39m\u001b[38;5;241m.\u001b[39mindex \u001b[38;5;241m>\u001b[39m\u001b[38;5;241m=\u001b[39m \u001b[38;5;28mlen\u001b[39m(\u001b[38;5;28mself\u001b[39m\u001b[38;5;241m.\u001b[39mresults) \u001b[38;5;241m-\u001b[39m \u001b[38;5;241m1\u001b[39m:\n\u001b[0;32m--> 167\u001b[0m     data \u001b[38;5;241m=\u001b[39m \u001b[38;5;28;43mself\u001b[39;49m\u001b[38;5;241;43m.\u001b[39;49m\u001b[43mmethod\u001b[49m\u001b[43m(\u001b[49m\u001b[43mmax_id\u001b[49m\u001b[38;5;241;43m=\u001b[39;49m\u001b[38;5;28;43mself\u001b[39;49m\u001b[38;5;241;43m.\u001b[39;49m\u001b[43mmax_id\u001b[49m\u001b[43m,\u001b[49m\u001b[43m \u001b[49m\u001b[43mparser\u001b[49m\u001b[38;5;241;43m=\u001b[39;49m\u001b[43mRawParser\u001b[49m\u001b[43m(\u001b[49m\u001b[43m)\u001b[49m\u001b[43m,\u001b[49m\u001b[43m \u001b[49m\u001b[38;5;241;43m*\u001b[39;49m\u001b[38;5;28;43mself\u001b[39;49m\u001b[38;5;241;43m.\u001b[39;49m\u001b[43margs\u001b[49m\u001b[43m,\u001b[49m\u001b[43m \u001b[49m\u001b[38;5;241;43m*\u001b[39;49m\u001b[38;5;241;43m*\u001b[39;49m\u001b[38;5;28;43mself\u001b[39;49m\u001b[38;5;241;43m.\u001b[39;49m\u001b[43mkwargs\u001b[49m\u001b[43m)\u001b[49m\n\u001b[1;32m    169\u001b[0m     model \u001b[38;5;241m=\u001b[39m ModelParser()\u001b[38;5;241m.\u001b[39mparse(\n\u001b[1;32m    170\u001b[0m         data, api \u001b[38;5;241m=\u001b[39m \u001b[38;5;28mself\u001b[39m\u001b[38;5;241m.\u001b[39mmethod\u001b[38;5;241m.\u001b[39m\u001b[38;5;18m__self__\u001b[39m,\n\u001b[1;32m    171\u001b[0m         payload_list\u001b[38;5;241m=\u001b[39m\u001b[38;5;28mself\u001b[39m\u001b[38;5;241m.\u001b[39mmethod\u001b[38;5;241m.\u001b[39mpayload_list,\n\u001b[1;32m    172\u001b[0m         payload_type\u001b[38;5;241m=\u001b[39m\u001b[38;5;28mself\u001b[39m\u001b[38;5;241m.\u001b[39mmethod\u001b[38;5;241m.\u001b[39mpayload_type\n\u001b[1;32m    173\u001b[0m     )\n\u001b[1;32m    174\u001b[0m     result \u001b[38;5;241m=\u001b[39m \u001b[38;5;28mself\u001b[39m\u001b[38;5;241m.\u001b[39mmethod\u001b[38;5;241m.\u001b[39m\u001b[38;5;18m__self__\u001b[39m\u001b[38;5;241m.\u001b[39mparser\u001b[38;5;241m.\u001b[39mparse(\n\u001b[1;32m    175\u001b[0m         data, api \u001b[38;5;241m=\u001b[39m \u001b[38;5;28mself\u001b[39m\u001b[38;5;241m.\u001b[39mmethod\u001b[38;5;241m.\u001b[39m\u001b[38;5;18m__self__\u001b[39m,\n\u001b[1;32m    176\u001b[0m         payload_list\u001b[38;5;241m=\u001b[39m\u001b[38;5;28mself\u001b[39m\u001b[38;5;241m.\u001b[39mmethod\u001b[38;5;241m.\u001b[39mpayload_list,\n\u001b[1;32m    177\u001b[0m         payload_type\u001b[38;5;241m=\u001b[39m\u001b[38;5;28mself\u001b[39m\u001b[38;5;241m.\u001b[39mmethod\u001b[38;5;241m.\u001b[39mpayload_type\n\u001b[1;32m    178\u001b[0m     )\n",
      "File \u001b[0;32m~/opt/anaconda3/envs/dss_dash/lib/python3.9/site-packages/tweepy/api.py:33\u001b[0m, in \u001b[0;36mpagination.<locals>.decorator.<locals>.wrapper\u001b[0;34m(*args, **kwargs)\u001b[0m\n\u001b[1;32m     31\u001b[0m \u001b[38;5;129m@functools\u001b[39m\u001b[38;5;241m.\u001b[39mwraps(method)\n\u001b[1;32m     32\u001b[0m \u001b[38;5;28;01mdef\u001b[39;00m \u001b[38;5;21mwrapper\u001b[39m(\u001b[38;5;241m*\u001b[39margs, \u001b[38;5;241m*\u001b[39m\u001b[38;5;241m*\u001b[39mkwargs):\n\u001b[0;32m---> 33\u001b[0m     \u001b[38;5;28;01mreturn\u001b[39;00m \u001b[43mmethod\u001b[49m\u001b[43m(\u001b[49m\u001b[38;5;241;43m*\u001b[39;49m\u001b[43margs\u001b[49m\u001b[43m,\u001b[49m\u001b[43m \u001b[49m\u001b[38;5;241;43m*\u001b[39;49m\u001b[38;5;241;43m*\u001b[39;49m\u001b[43mkwargs\u001b[49m\u001b[43m)\u001b[49m\n",
      "File \u001b[0;32m~/opt/anaconda3/envs/dss_dash/lib/python3.9/site-packages/tweepy/api.py:46\u001b[0m, in \u001b[0;36mpayload.<locals>.decorator.<locals>.wrapper\u001b[0;34m(*args, **kwargs)\u001b[0m\n\u001b[1;32m     44\u001b[0m kwargs[\u001b[38;5;124m'\u001b[39m\u001b[38;5;124mpayload_list\u001b[39m\u001b[38;5;124m'\u001b[39m] \u001b[38;5;241m=\u001b[39m payload_list\n\u001b[1;32m     45\u001b[0m kwargs[\u001b[38;5;124m'\u001b[39m\u001b[38;5;124mpayload_type\u001b[39m\u001b[38;5;124m'\u001b[39m] \u001b[38;5;241m=\u001b[39m payload_type\n\u001b[0;32m---> 46\u001b[0m \u001b[38;5;28;01mreturn\u001b[39;00m \u001b[43mmethod\u001b[49m\u001b[43m(\u001b[49m\u001b[38;5;241;43m*\u001b[39;49m\u001b[43margs\u001b[49m\u001b[43m,\u001b[49m\u001b[43m \u001b[49m\u001b[38;5;241;43m*\u001b[39;49m\u001b[38;5;241;43m*\u001b[39;49m\u001b[43mkwargs\u001b[49m\u001b[43m)\u001b[49m\n",
      "File \u001b[0;32m~/opt/anaconda3/envs/dss_dash/lib/python3.9/site-packages/tweepy/api.py:1309\u001b[0m, in \u001b[0;36mAPI.search_tweets\u001b[0;34m(self, q, **kwargs)\u001b[0m\n\u001b[1;32m   1215\u001b[0m \u001b[38;5;129m@pagination\u001b[39m(mode\u001b[38;5;241m=\u001b[39m\u001b[38;5;124m'\u001b[39m\u001b[38;5;124mid\u001b[39m\u001b[38;5;124m'\u001b[39m)\n\u001b[1;32m   1216\u001b[0m \u001b[38;5;129m@payload\u001b[39m(\u001b[38;5;124m'\u001b[39m\u001b[38;5;124msearch_results\u001b[39m\u001b[38;5;124m'\u001b[39m)\n\u001b[1;32m   1217\u001b[0m \u001b[38;5;28;01mdef\u001b[39;00m \u001b[38;5;21msearch_tweets\u001b[39m(\u001b[38;5;28mself\u001b[39m, q, \u001b[38;5;241m*\u001b[39m\u001b[38;5;241m*\u001b[39mkwargs):\n\u001b[1;32m   1218\u001b[0m     \u001b[38;5;124;03m\"\"\"search_tweets(q, *, geocode, lang, locale, result_type, count, \\\u001b[39;00m\n\u001b[1;32m   1219\u001b[0m \u001b[38;5;124;03m                     until, since_id, max_id, include_entities)\u001b[39;00m\n\u001b[1;32m   1220\u001b[0m \n\u001b[0;32m   (...)\u001b[0m\n\u001b[1;32m   1307\u001b[0m \u001b[38;5;124;03m    .. _Twitter's documentation on the standard search API: https://developer.twitter.com/en/docs/twitter-api/v1/tweets/search/overview\u001b[39;00m\n\u001b[1;32m   1308\u001b[0m \u001b[38;5;124;03m    \"\"\"\u001b[39;00m\n\u001b[0;32m-> 1309\u001b[0m     \u001b[38;5;28;01mreturn\u001b[39;00m \u001b[38;5;28;43mself\u001b[39;49m\u001b[38;5;241;43m.\u001b[39;49m\u001b[43mrequest\u001b[49m\u001b[43m(\u001b[49m\n\u001b[1;32m   1310\u001b[0m \u001b[43m        \u001b[49m\u001b[38;5;124;43m'\u001b[39;49m\u001b[38;5;124;43mGET\u001b[39;49m\u001b[38;5;124;43m'\u001b[39;49m\u001b[43m,\u001b[49m\u001b[43m \u001b[49m\u001b[38;5;124;43m'\u001b[39;49m\u001b[38;5;124;43msearch/tweets\u001b[39;49m\u001b[38;5;124;43m'\u001b[39;49m\u001b[43m,\u001b[49m\u001b[43m \u001b[49m\u001b[43mendpoint_parameters\u001b[49m\u001b[38;5;241;43m=\u001b[39;49m\u001b[43m(\u001b[49m\n\u001b[1;32m   1311\u001b[0m \u001b[43m            \u001b[49m\u001b[38;5;124;43m'\u001b[39;49m\u001b[38;5;124;43mq\u001b[39;49m\u001b[38;5;124;43m'\u001b[39;49m\u001b[43m,\u001b[49m\u001b[43m \u001b[49m\u001b[38;5;124;43m'\u001b[39;49m\u001b[38;5;124;43mgeocode\u001b[39;49m\u001b[38;5;124;43m'\u001b[39;49m\u001b[43m,\u001b[49m\u001b[43m \u001b[49m\u001b[38;5;124;43m'\u001b[39;49m\u001b[38;5;124;43mlang\u001b[39;49m\u001b[38;5;124;43m'\u001b[39;49m\u001b[43m,\u001b[49m\u001b[43m \u001b[49m\u001b[38;5;124;43m'\u001b[39;49m\u001b[38;5;124;43mlocale\u001b[39;49m\u001b[38;5;124;43m'\u001b[39;49m\u001b[43m,\u001b[49m\u001b[43m \u001b[49m\u001b[38;5;124;43m'\u001b[39;49m\u001b[38;5;124;43mresult_type\u001b[39;49m\u001b[38;5;124;43m'\u001b[39;49m\u001b[43m,\u001b[49m\u001b[43m \u001b[49m\u001b[38;5;124;43m'\u001b[39;49m\u001b[38;5;124;43mcount\u001b[39;49m\u001b[38;5;124;43m'\u001b[39;49m\u001b[43m,\u001b[49m\n\u001b[1;32m   1312\u001b[0m \u001b[43m            \u001b[49m\u001b[38;5;124;43m'\u001b[39;49m\u001b[38;5;124;43muntil\u001b[39;49m\u001b[38;5;124;43m'\u001b[39;49m\u001b[43m,\u001b[49m\u001b[43m \u001b[49m\u001b[38;5;124;43m'\u001b[39;49m\u001b[38;5;124;43msince_id\u001b[39;49m\u001b[38;5;124;43m'\u001b[39;49m\u001b[43m,\u001b[49m\u001b[43m \u001b[49m\u001b[38;5;124;43m'\u001b[39;49m\u001b[38;5;124;43mmax_id\u001b[39;49m\u001b[38;5;124;43m'\u001b[39;49m\u001b[43m,\u001b[49m\u001b[43m \u001b[49m\u001b[38;5;124;43m'\u001b[39;49m\u001b[38;5;124;43minclude_entities\u001b[39;49m\u001b[38;5;124;43m'\u001b[39;49m\n\u001b[1;32m   1313\u001b[0m \u001b[43m        \u001b[49m\u001b[43m)\u001b[49m\u001b[43m,\u001b[49m\u001b[43m \u001b[49m\u001b[43mq\u001b[49m\u001b[38;5;241;43m=\u001b[39;49m\u001b[43mq\u001b[49m\u001b[43m,\u001b[49m\u001b[43m \u001b[49m\u001b[38;5;241;43m*\u001b[39;49m\u001b[38;5;241;43m*\u001b[39;49m\u001b[43mkwargs\u001b[49m\n\u001b[1;32m   1314\u001b[0m \u001b[43m    \u001b[49m\u001b[43m)\u001b[49m\n",
      "File \u001b[0;32m~/opt/anaconda3/envs/dss_dash/lib/python3.9/site-packages/tweepy/api.py:269\u001b[0m, in \u001b[0;36mAPI.request\u001b[0;34m(self, method, endpoint, endpoint_parameters, params, headers, json_payload, parser, payload_list, payload_type, post_data, files, require_auth, return_cursors, upload_api, use_cache, **kwargs)\u001b[0m\n\u001b[1;32m    267\u001b[0m     \u001b[38;5;28;01mraise\u001b[39;00m NotFound(resp)\n\u001b[1;32m    268\u001b[0m \u001b[38;5;28;01mif\u001b[39;00m resp\u001b[38;5;241m.\u001b[39mstatus_code \u001b[38;5;241m==\u001b[39m \u001b[38;5;241m429\u001b[39m:\n\u001b[0;32m--> 269\u001b[0m     \u001b[38;5;28;01mraise\u001b[39;00m TooManyRequests(resp)\n\u001b[1;32m    270\u001b[0m \u001b[38;5;28;01mif\u001b[39;00m resp\u001b[38;5;241m.\u001b[39mstatus_code \u001b[38;5;241m>\u001b[39m\u001b[38;5;241m=\u001b[39m \u001b[38;5;241m500\u001b[39m:\n\u001b[1;32m    271\u001b[0m     \u001b[38;5;28;01mraise\u001b[39;00m TwitterServerError(resp)\n",
      "\u001b[0;31mTooManyRequests\u001b[0m: 429 Too Many Requests\n88 - Rate limit exceeded"
     ]
    }
   ],
   "source": [
    "for twt in tweepy.Cursor(api.search_tweets, q=\"BTS\",tweet_mode='extended').items(100):\n",
    "  tweets.append([twt.created_at,twt.user.screen_name,twt.user.name,twt.full_text,twt.retweet_count,twt.favorite_count])\n",
    "\n",
    "data = pd.DataFrame(tweets,columns=[\"Created at\",\"Username\", \"Name\", \"Tweets\",\" Retweets\", \"Likes\"])\n",
    "data"
   ]
  },
  {
   "cell_type": "markdown",
   "metadata": {},
   "source": [
    "## 12. Access The Column"
   ]
  },
  {
   "cell_type": "code",
   "execution_count": 168,
   "metadata": {},
   "outputs": [
    {
     "data": {
      "text/plain": [
       "0           hiyyih_mel\n",
       "1       _CocoteTonggo_\n",
       "2       JonySmartfacil\n",
       "3             kokocien\n",
       "4              dyavi22\n",
       "             ...      \n",
       "1412            7z_bts\n",
       "1413       Tey00811442\n",
       "1414      pau_army_bts\n",
       "1415          Bsjmoon2\n",
       "1416       luc1ernagas\n",
       "Name: Username, Length: 1417, dtype: object"
      ]
     },
     "execution_count": 168,
     "metadata": {},
     "output_type": "execute_result"
    }
   ],
   "source": [
    "data['Username']"
   ]
  },
  {
   "cell_type": "code",
   "execution_count": 169,
   "metadata": {},
   "outputs": [
    {
     "data": {
      "text/plain": [
       "0       RT @hiyyihpaws27: Another bday ads we want to ...\n",
       "1       Sepertinya tidak legowo minta maaf ya cak.\\nTa...\n",
       "2       Terremoto de magnitude 7 atinge o leste da Ind...\n",
       "3       @firzahusainInc URUSAN AGAMA DAN AKHIRAT TANYA...\n",
       "4       @janjimanis69 @suami_tergoda @fr333akk 😆 sama ...\n",
       "                              ...                        \n",
       "1412                                          @H_elga 😊😊😊\n",
       "1413    RT @sunflowercharts: .@BTS_twt #SMA — Best Alb...\n",
       "1414    Hobi tiene la llave de mi corazón https://t.co...\n",
       "1415    RT @zxykimsunoo: #SMA_RIGGED #SMARIGGED\\n\\n• N...\n",
       "1416    RT @Kmedia_BTS: — 📸 | La revista 'Mint Thailan...\n",
       "Name: Tweets, Length: 1417, dtype: object"
      ]
     },
     "execution_count": 169,
     "metadata": {},
     "output_type": "execute_result"
    }
   ],
   "source": [
    "data['Tweets']"
   ]
  },
  {
   "cell_type": "code",
   "execution_count": 178,
   "metadata": {},
   "outputs": [
    {
     "name": "stdout",
     "output_type": "stream",
     "text": [
      "0    RT @hiyyihpaws27: Another bday ads we want to ...\n",
      "Name: Tweets, dtype: object\n"
     ]
    }
   ],
   "source": [
    "print(data[data['Username'] == 'hiyyih_mel'][\"Tweets\"])"
   ]
  },
  {
   "cell_type": "code",
   "execution_count": 180,
   "metadata": {},
   "outputs": [
    {
     "data": {
      "text/plain": [
       "'RT @hiyyihpaws27: Another bday ads we want to achieve for hiyyih. This ads located in Jakarta, capital city of Indonesia. There will be 7 u…'"
      ]
     },
     "execution_count": 180,
     "metadata": {},
     "output_type": "execute_result"
    }
   ],
   "source": [
    "data[data['Username'] == 'hiyyih_mel'][\"Tweets\"][0]"
   ]
  }
 ],
 "metadata": {
  "interpreter": {
   "hash": "667894cb87e510d275457dc7e29ebae402a3c78a70db11891315493bc49f16c6"
  },
  "kernelspec": {
   "display_name": "Python 3.9.15 64-bit ('dss_dash': conda)",
   "language": "python",
   "name": "python3"
  },
  "language_info": {
   "codemirror_mode": {
    "name": "ipython",
    "version": 3
   },
   "file_extension": ".py",
   "mimetype": "text/x-python",
   "name": "python",
   "nbconvert_exporter": "python",
   "pygments_lexer": "ipython3",
   "version": "3.9.15"
  },
  "orig_nbformat": 4
 },
 "nbformat": 4,
 "nbformat_minor": 2
}
